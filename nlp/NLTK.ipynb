{
 "cells": [
  {
   "cell_type": "markdown",
   "metadata": {},
   "source": [
    "# NLTK \n",
    "## (python)\n",
    "\n",
    "http://www.nltk.org/"
   ]
  },
  {
   "cell_type": "code",
   "execution_count": null,
   "metadata": {
    "collapsed": false
   },
   "outputs": [],
   "source": [
    "import nltk\n",
    "#nltk.download('all')"
   ]
  },
  {
   "cell_type": "code",
   "execution_count": null,
   "metadata": {
    "collapsed": true
   },
   "outputs": [],
   "source": [
    "# Texto a analizar\n",
    "\n",
    "text = \"At eight o'clock on Thursday morning Arthur didn't feel very good..\""
   ]
  },
  {
   "cell_type": "code",
   "execution_count": null,
   "metadata": {
    "collapsed": false
   },
   "outputs": [],
   "source": [
    "#Separar oraciones\n",
    "\n",
    "#nltk.download('punkt')\n",
    "sentences = nltk.sent_tokenize(text)\n",
    "\n",
    "print sentences"
   ]
  },
  {
   "cell_type": "code",
   "execution_count": null,
   "metadata": {
    "collapsed": false
   },
   "outputs": [],
   "source": [
    "#separar palabras \n",
    "\n",
    "tokenized_sentences = []\n",
    "tokenized_sentences = [nltk.word_tokenize(sentence) for sentence in sentences]\n",
    "\n",
    "print tokenized_sentences"
   ]
  },
  {
   "cell_type": "code",
   "execution_count": null,
   "metadata": {
    "collapsed": false
   },
   "outputs": [],
   "source": [
    "#POS tagging\n",
    "#nltk.download('averaged_perceptron_tagger')\n",
    "postagged = [nltk.pos_tag(toksentence) for toksentence in tokenized_sentences]\n",
    "\n",
    "print postagged"
   ]
  },
  {
   "cell_type": "code",
   "execution_count": null,
   "metadata": {
    "collapsed": false
   },
   "outputs": [],
   "source": [
    "# Lemmas\n",
    "\n",
    "#nltk.download('wordnet')\n",
    "from nltk.stem import WordNetLemmatizer\n",
    "wordnet_lemmatizer = WordNetLemmatizer()\n",
    "\n",
    "postagged_lemma = []\n",
    "for s in postagged:\n",
    "    newsent = []\n",
    "    for w in s:\n",
    "        postag = w[1][0].lower()\n",
    "        if postag in set(['n', 'a', 'v', 'r']):\n",
    "            newsent.append((w[0], wordnet_lemmatizer.lemmatize(w[0], pos=postag), w[1]))\n",
    "        else:\n",
    "            newsent.append((w[0], w[0].lower(), w[1]))\n",
    "    postagged_lemma.append(newsent)\n",
    "\n",
    "print postagged_lemma"
   ]
  },
  {
   "cell_type": "code",
   "execution_count": null,
   "metadata": {
    "collapsed": false
   },
   "outputs": [],
   "source": [
    "#Análisis sintáctico\n",
    "#nltk.download('maxent_ne_chunker\n",
    "nltk.download('words')\n",
    "entities = [nltk.chunk.ne_chunk(tagged_sent) for tagged_sent in postagged]\n",
    "\n",
    "print entities"
   ]
  }
 ],
 "metadata": {
  "kernelspec": {
   "display_name": "Python 2",
   "language": "python",
   "name": "python2"
  },
  "language_info": {
   "codemirror_mode": {
    "name": "ipython",
    "version": 2
   },
   "file_extension": ".py",
   "mimetype": "text/x-python",
   "name": "python",
   "nbconvert_exporter": "python",
   "pygments_lexer": "ipython2",
   "version": "2.7.12"
  }
 },
 "nbformat": 4,
 "nbformat_minor": 2
}
