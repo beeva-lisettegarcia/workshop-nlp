{
 "cells": [
  {
   "cell_type": "markdown",
   "metadata": {},
   "source": [
    "# NLTK \n",
    "## (python)\n",
    "\n",
    "http://www.nltk.org/"
   ]
  },
  {
   "cell_type": "code",
   "execution_count": null,
   "metadata": {
    "collapsed": true
   },
   "outputs": [],
   "source": [
    "import nltk"
   ]
  },
  {
   "cell_type": "code",
   "execution_count": 28,
   "metadata": {
    "collapsed": true
   },
   "outputs": [],
   "source": [
    "# Texto a analizar\n",
    "\n",
    "text = \"At eight o'clock on Thursday morning Arthur didn't feel very good..\""
   ]
  },
  {
   "cell_type": "code",
   "execution_count": 29,
   "metadata": {
    "collapsed": false
   },
   "outputs": [
    {
     "name": "stdout",
     "output_type": "stream",
     "text": [
      "[\"At eight o'clock on Thursday morning Arthur didn't feel very good..\"]\n"
     ]
    }
   ],
   "source": [
    "#Separar oraciones\n",
    "\n",
    "sentences = nltk.sent_tokenize(text)\n",
    "\n",
    "print sentences"
   ]
  },
  {
   "cell_type": "code",
   "execution_count": 30,
   "metadata": {
    "collapsed": false
   },
   "outputs": [
    {
     "name": "stdout",
     "output_type": "stream",
     "text": [
      "[['At', 'eight', \"o'clock\", 'on', 'Thursday', 'morning', 'Arthur', 'did', \"n't\", 'feel', 'very', 'good..']]\n"
     ]
    }
   ],
   "source": [
    "#separar palabras \n",
    "\n",
    "tokenized_sentences = []\n",
    "tokenized_sentences = [nltk.word_tokenize(sentence) for sentence in sentences]\n",
    "\n",
    "print tokenized_sentences"
   ]
  },
  {
   "cell_type": "code",
   "execution_count": 31,
   "metadata": {
    "collapsed": false
   },
   "outputs": [
    {
     "name": "stdout",
     "output_type": "stream",
     "text": [
      "[[('At', 'IN'), ('eight', 'CD'), (\"o'clock\", 'NN'), ('on', 'IN'), ('Thursday', 'NNP'), ('morning', 'NN'), ('Arthur', 'NNP'), ('did', 'VBD'), (\"n't\", 'RB'), ('feel', 'VB'), ('very', 'RB'), ('good..', 'JJ')]]\n"
     ]
    }
   ],
   "source": [
    "\n",
    "#POS tagging\n",
    "\n",
    "postagged = [nltk.pos_tag(toksentence) for toksentence in tokenized_sentences]\n",
    "\n",
    "print postagged"
   ]
  },
  {
   "cell_type": "code",
   "execution_count": 32,
   "metadata": {
    "collapsed": false
   },
   "outputs": [
    {
     "name": "stdout",
     "output_type": "stream",
     "text": [
      "[[('At', 'at', 'IN'), ('eight', 'eight', 'CD'), (\"o'clock\", \"o'clock\", 'NN'), ('on', 'on', 'IN'), ('Thursday', 'Thursday', 'NNP'), ('morning', 'morning', 'NN'), ('Arthur', 'Arthur', 'NNP'), ('did', u'do', 'VBD'), (\"n't\", \"n't\", 'RB'), ('feel', 'feel', 'VB'), ('very', 'very', 'RB'), ('good..', 'good..', 'JJ')]]\n"
     ]
    }
   ],
   "source": [
    "# Lemmas\n",
    "\n",
    "from nltk.stem import WordNetLemmatizer\n",
    "wordnet_lemmatizer = WordNetLemmatizer()\n",
    "\n",
    "postagged_lemma = []\n",
    "for s in postagged:\n",
    "    newsent = []\n",
    "    for w in s:\n",
    "        postag = w[1][0].lower()\n",
    "        if postag in set(['n', 'a', 'v', 'r']):\n",
    "            newsent.append((w[0], wordnet_lemmatizer.lemmatize(w[0], pos=postag), w[1]))\n",
    "        else:\n",
    "            newsent.append((w[0], w[0].lower(), w[1]))\n",
    "    postagged_lemma.append(newsent)\n",
    "\n",
    "print postagged_lemma"
   ]
  },
  {
   "cell_type": "code",
   "execution_count": 33,
   "metadata": {
    "collapsed": false
   },
   "outputs": [
    {
     "name": "stdout",
     "output_type": "stream",
     "text": [
      "[Tree('S', [('At', 'IN'), ('eight', 'CD'), (\"o'clock\", 'NN'), ('on', 'IN'), ('Thursday', 'NNP'), ('morning', 'NN'), Tree('PERSON', [('Arthur', 'NNP')]), ('did', 'VBD'), (\"n't\", 'RB'), ('feel', 'VB'), ('very', 'RB'), ('good..', 'JJ')])]\n"
     ]
    }
   ],
   "source": [
    "#Análisis sintáctico\n",
    "\n",
    "entities = [nltk.chunk.ne_chunk(tagged_sent) for tagged_sent in postagged]\n",
    "\n",
    "print entities"
   ]
  }
 ],
 "metadata": {
  "kernelspec": {
   "display_name": "Python 2",
   "language": "python",
   "name": "python2"
  },
  "language_info": {
   "codemirror_mode": {
    "name": "ipython",
    "version": 2
   },
   "file_extension": ".py",
   "mimetype": "text/x-python",
   "name": "python",
   "nbconvert_exporter": "python",
   "pygments_lexer": "ipython2",
   "version": "2.7.12"
  }
 },
 "nbformat": 4,
 "nbformat_minor": 2
}
