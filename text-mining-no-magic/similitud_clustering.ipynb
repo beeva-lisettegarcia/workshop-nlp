{
 "cells": [
  {
   "cell_type": "markdown",
   "metadata": {},
   "source": [
    "# Limpieza de datos y preprocesado de textos"
   ]
  },
  {
   "cell_type": "code",
   "execution_count": null,
   "metadata": {
    "collapsed": false
   },
   "outputs": [],
   "source": [
    "from bs4 import BeautifulSoup\n",
    "import pandas as pd\n",
    "import re\n",
    "import unicodedata,string\n",
    "\n",
    "import config\n",
    "PATH=config.DATASET_MUCHOCINE_RAW + \"/\"\n",
    "\n",
    "def clean(x):\n",
    "   x = unicodedata.normalize('NFKD', x).encode('ascii','ignore').lower()\n",
    "   replace_punctuation = string.maketrans(string.punctuation, ' '*len(string.punctuation))\n",
    "   x = x.translate(replace_punctuation)\n",
    "   x = re.sub('@%$&[\\n/:!,;)()_?¿¡<>]', ' ', x)\n",
    "   x = re.sub(' - ', ' ', x)\n",
    "   x = re.sub(' +',' ', x).strip()\n",
    "   return x\n",
    "\n",
    "def parseFile(filename):\n",
    "    \n",
    "    try:\n",
    "        data = open(filename,'r').read()\n",
    "        soup = BeautifulSoup(data, \"html.parser\")\n",
    "        author = soup.find(\"review\")[\"author\"]\n",
    "        title = soup.find(\"review\")[\"title\"]\n",
    "        review_text = soup.body.get_text()\n",
    "        letters_only = clean(review_text)\n",
    "        result = ','.join([clean(author), clean(title), clean(review_text)])\n",
    "\n",
    "    except Exception as e:\n",
    "        print e\n",
    "        result = []\n",
    "        \n",
    "    return result\n",
    "\n",
    "parseFile(PATH + str(999) + \".xml\")"
   ]
  },
  {
   "cell_type": "code",
   "execution_count": null,
   "metadata": {
    "collapsed": false
   },
   "outputs": [],
   "source": [
    "N_DOCS = 1000\n",
    "mydict = {i:parseFile(PATH+str(i)+\".xml\") for i in range(N_DOCS)}\n",
    "df = pd.DataFrame(data=mydict.items(), columns=['id', 'text'])\n",
    "df['author'] = df['text'].str.split(',').str[0]\n",
    "df['title'] = df['text'].str.split(',').str[1]\n",
    "df['text'] = df['text'].str.split(',').str[2]\n",
    "\n",
    "df = df[df[\"text\"] != \"\"].dropna()\n",
    "\n",
    "df.to_csv(PATH+\"clean_reviews.csv\", index=False)\n",
    "df.head()"
   ]
  },
  {
   "cell_type": "markdown",
   "metadata": {},
   "source": [
    "# Representación Bag of Words con TF-IDF"
   ]
  },
  {
   "cell_type": "code",
   "execution_count": null,
   "metadata": {
    "collapsed": false
   },
   "outputs": [],
   "source": [
    "#corpus = ['This is the first document.','This is the second second document.','And the third one.','Is this the first document?']\n",
    "corpus = df[\"text\"].tolist()"
   ]
  },
  {
   "cell_type": "code",
   "execution_count": null,
   "metadata": {
    "collapsed": false
   },
   "outputs": [],
   "source": [
    "from sklearn.feature_extraction.text import TfidfVectorizer\n",
    "vectorizer = TfidfVectorizer(analyzer=u'word', use_idf=True, max_df=0.3, lowercase=False)\n",
    "#vectorizer = TfidfVectorizer(analyzer=u'word', use_idf=True)\n",
    "tfidf_matrix = vectorizer.fit_transform(corpus)\n",
    "features = vectorizer.get_feature_names()"
   ]
  },
  {
   "cell_type": "markdown",
   "metadata": {},
   "source": [
    "# Extracción de palabras clave"
   ]
  },
  {
   "cell_type": "code",
   "execution_count": null,
   "metadata": {
    "collapsed": false
   },
   "outputs": [],
   "source": [
    "import operator\n",
    "import numpy as np\n",
    "\n",
    "def getKeywords(myvector, top_n, features):\n",
    "    myweights = myvector.toarray().flatten()\n",
    "    indices = np.argsort(myweights)[::-1]\n",
    "    top_features = [features[i] for i in indices[:top_n]]\n",
    "    return top_features \n",
    "\n",
    "N_KEYWORDS = 10\n",
    "def keywords(myid):\n",
    "    return getKeywords(tfidf_matrix[myid:myid+1], N_KEYWORDS, features)\n",
    "\n",
    "print keywords(1)"
   ]
  },
  {
   "cell_type": "code",
   "execution_count": null,
   "metadata": {
    "collapsed": false
   },
   "outputs": [],
   "source": [
    "df[\"keywords\"] = map(keywords, range(len(df)))"
   ]
  },
  {
   "cell_type": "code",
   "execution_count": null,
   "metadata": {
    "collapsed": false
   },
   "outputs": [],
   "source": [
    "df.head()"
   ]
  },
  {
   "cell_type": "markdown",
   "metadata": {
    "collapsed": true
   },
   "source": [
    "# Clustering"
   ]
  },
  {
   "cell_type": "code",
   "execution_count": null,
   "metadata": {
    "collapsed": false
   },
   "outputs": [],
   "source": [
    "from sklearn.cluster import KMeans\n",
    "\n",
    "num_clusters = 100\n",
    "clustering = KMeans(n_clusters=num_clusters)\n",
    "%time clustering.fit(tfidf_matrix)\n",
    "\n",
    "clusters = clustering.labels_.tolist()"
   ]
  },
  {
   "cell_type": "code",
   "execution_count": null,
   "metadata": {
    "collapsed": false
   },
   "outputs": [],
   "source": [
    "df[\"cluster\"] = clusters\n",
    "df.head()"
   ]
  },
  {
   "cell_type": "code",
   "execution_count": null,
   "metadata": {
    "collapsed": false
   },
   "outputs": [],
   "source": [
    "df[df[\"cluster\"] == 4]"
   ]
  },
  {
   "cell_type": "code",
   "execution_count": null,
   "metadata": {
    "collapsed": false
   },
   "outputs": [],
   "source": [
    "df[df[\"cluster\"] == 1]"
   ]
  }
 ],
 "metadata": {
  "kernelspec": {
   "display_name": "Python 2",
   "language": "python",
   "name": "python2"
  },
  "language_info": {
   "codemirror_mode": {
    "name": "ipython",
    "version": 2
   },
   "file_extension": ".py",
   "mimetype": "text/x-python",
   "name": "python",
   "nbconvert_exporter": "python",
   "pygments_lexer": "ipython2",
   "version": "2.7.12"
  }
 },
 "nbformat": 4,
 "nbformat_minor": 1
}
