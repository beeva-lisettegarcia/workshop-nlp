{
 "cells": [
  {
   "cell_type": "markdown",
   "metadata": {},
   "source": [
    "# Similitud de documentos (I)"
   ]
  },
  {
   "cell_type": "markdown",
   "metadata": {},
   "source": [
    "## Cargar dataset generado"
   ]
  },
  {
   "cell_type": "code",
   "execution_count": 1,
   "metadata": {
    "collapsed": false
   },
   "outputs": [],
   "source": [
    "import json\n",
    "import zlib\n",
    "\n",
    "import numpy as np\n",
    "import seaborn as sns\n",
    "\n",
    "%matplotlib inline\n",
    "\n",
    "import config\n",
    "\n",
    "# Import\n",
    "with open(config.DATASET_MUCHOCINE, 'r') as fd:\n",
    "    documents = json.loads(zlib.decompress(fd.read()))"
   ]
  },
  {
   "cell_type": "markdown",
   "metadata": {},
   "source": [
    "## Modelo vectorial"
   ]
  },
  {
   "cell_type": "code",
   "execution_count": 2,
   "metadata": {
    "collapsed": true
   },
   "outputs": [],
   "source": [
    "from collections import Counter\n",
    "\n",
    "from sklearn.feature_extraction import DictVectorizer"
   ]
  },
  {
   "cell_type": "markdown",
   "metadata": {},
   "source": [
    "http://scikit-learn.org/stable/modules/generated/sklearn.feature_extraction.DictVectorizer.html"
   ]
  },
  {
   "cell_type": "code",
   "execution_count": 3,
   "metadata": {
    "collapsed": false
   },
   "outputs": [],
   "source": [
    "model_vect = DictVectorizer()\n",
    "docs_vect = model_vect.fit_transform([Counter(doc['body_tokens']) for doc in documents])"
   ]
  },
  {
   "cell_type": "code",
   "execution_count": 4,
   "metadata": {
    "collapsed": false
   },
   "outputs": [
    {
     "name": "stdout",
     "output_type": "stream",
     "text": [
      "Documentos:3878\n",
      "Palabras:48472\n"
     ]
    }
   ],
   "source": [
    "print \"Documentos:{}\\nPalabras:{}\".format(*docs_vect.get_shape())"
   ]
  },
  {
   "cell_type": "code",
   "execution_count": 5,
   "metadata": {
    "collapsed": false,
    "scrolled": true
   },
   "outputs": [
    {
     "data": {
      "text/plain": [
       "[u'0',\n",
       " u'00',\n",
       " u'000',\n",
       " u'0015',\n",
       " u'007',\n",
       " u'007lo',\n",
       " u'007por',\n",
       " u'02',\n",
       " u'05',\n",
       " u'06',\n",
       " u'07sevill',\n",
       " u'0px',\n",
       " u'1',\n",
       " u'10',\n",
       " u'100',\n",
       " u'1000',\n",
       " u'10000',\n",
       " u'100000',\n",
       " u'1001',\n",
       " u'1003',\n",
       " u'100de',\n",
       " u'100el',\n",
       " u'100en',\n",
       " u'100jack',\n",
       " u'100real',\n",
       " u'101',\n",
       " u'1010657',\n",
       " u'1012',\n",
       " u'1013',\n",
       " u'102',\n",
       " u'103',\n",
       " u'1030',\n",
       " u'10484',\n",
       " u'105',\n",
       " u'107',\n",
       " u'1073',\n",
       " u'108',\n",
       " u'1080',\n",
       " u'109',\n",
       " u'10le',\n",
       " u'10los',\n",
       " u'10pd',\n",
       " u'10px',\n",
       " u'10sol',\n",
       " u'10un',\n",
       " u'11',\n",
       " u'110',\n",
       " u'1100',\n",
       " u'11000',\n",
       " u'1109',\n",
       " u'111',\n",
       " u'114',\n",
       " u'114000',\n",
       " u'115',\n",
       " u'116',\n",
       " u'117',\n",
       " u'117lo',\n",
       " u'119',\n",
       " u'119lo',\n",
       " u'11m',\n",
       " u'11mla',\n",
       " u'11s',\n",
       " u'11ses',\n",
       " u'11sjepor',\n",
       " u'11un',\n",
       " u'12',\n",
       " u'120',\n",
       " u'120lo',\n",
       " u'121',\n",
       " u'123',\n",
       " u'1237461',\n",
       " u'125',\n",
       " u'126',\n",
       " u'12642',\n",
       " u'127',\n",
       " u'128',\n",
       " u'1294874',\n",
       " u'13',\n",
       " u'130',\n",
       " u'131',\n",
       " u'1314',\n",
       " u'132',\n",
       " u'1331',\n",
       " u'135',\n",
       " u'136906',\n",
       " u'137',\n",
       " u'138243',\n",
       " u'139',\n",
       " u'13pu',\n",
       " u'13rdqu',\n",
       " u'13vay',\n",
       " u'14',\n",
       " u'140',\n",
       " u'1400',\n",
       " u'14000',\n",
       " u'14041986',\n",
       " u'1408',\n",
       " u'141',\n",
       " u'1430',\n",
       " u'144',\n",
       " u'145',\n",
       " u'145di',\n",
       " u'147',\n",
       " u'1490',\n",
       " u'1492',\n",
       " u'1496',\n",
       " u'14o',\n",
       " u'15',\n",
       " u'150',\n",
       " u'1500',\n",
       " u'15000',\n",
       " u'150000',\n",
       " u'1500en',\n",
       " u'151333',\n",
       " u'152',\n",
       " u'1527',\n",
       " u'152m',\n",
       " u'153',\n",
       " u'1530',\n",
       " u'1547',\n",
       " u'156',\n",
       " u'156102',\n",
       " u'1564',\n",
       " u'157',\n",
       " u'158',\n",
       " u'16',\n",
       " u'160',\n",
       " u'1600',\n",
       " u'1614',\n",
       " u'1616',\n",
       " u'161qu233',\n",
       " u'1625',\n",
       " u'163',\n",
       " u'1630',\n",
       " u'16321704',\n",
       " u'1661',\n",
       " u'167',\n",
       " u'168',\n",
       " u'1685',\n",
       " u'16call',\n",
       " u'16m',\n",
       " u'16mm',\n",
       " u'17',\n",
       " u'170',\n",
       " u'171',\n",
       " u'171205',\n",
       " u'175',\n",
       " u'1792',\n",
       " u'18',\n",
       " u'180',\n",
       " u'1818',\n",
       " u'1820',\n",
       " u'185083',\n",
       " u'1851',\n",
       " u'1860',\n",
       " u'1861',\n",
       " u'1865',\n",
       " u'187',\n",
       " u'1874',\n",
       " u'1879',\n",
       " u'188',\n",
       " u'1880',\n",
       " u'1890',\n",
       " u'1895',\n",
       " u'1896',\n",
       " u'19',\n",
       " u'190',\n",
       " u'1900',\n",
       " u'1903',\n",
       " u'1905',\n",
       " u'1912',\n",
       " u'1912en',\n",
       " u'1913',\n",
       " u'1914',\n",
       " u'1916',\n",
       " u'1917',\n",
       " u'1918',\n",
       " u'191cmo',\n",
       " u'191me',\n",
       " u'191par',\n",
       " u'1920',\n",
       " u'1920mal',\n",
       " u'1921',\n",
       " u'1925',\n",
       " u'1926',\n",
       " u'1927',\n",
       " u'1929',\n",
       " u'1930',\n",
       " u'1931',\n",
       " u'1931por',\n",
       " u'1931su',\n",
       " u'1932',\n",
       " u'1933',\n",
       " u'1934',\n",
       " u'1935',\n",
       " u'1936',\n",
       " u'1937',\n",
       " u'1938',\n",
       " u'1939',\n",
       " u'1940',\n",
       " u'1941',\n",
       " u'1941per',\n",
       " u'1942',\n",
       " u'1943',\n",
       " u'1944',\n",
       " u'1945',\n",
       " u'1946',\n",
       " u'1946y',\n",
       " u'1947',\n",
       " u'1948',\n",
       " u'1948sobr',\n",
       " u'1948sufri',\n",
       " u'1949',\n",
       " u'1949sin',\n",
       " u'1950',\n",
       " u'1951',\n",
       " u'1952',\n",
       " u'1953',\n",
       " u'1954',\n",
       " u'1954la',\n",
       " u'1955',\n",
       " u'1956',\n",
       " u'1957',\n",
       " u'1958',\n",
       " u'1959',\n",
       " u'1959en',\n",
       " u'1959espect',\n",
       " u'1959la',\n",
       " u'1960',\n",
       " u'1960la',\n",
       " u'1961',\n",
       " u'1961espect',\n",
       " u'1962',\n",
       " u'1963',\n",
       " u'1964',\n",
       " u'1965',\n",
       " u'1966',\n",
       " u'1967',\n",
       " u'1968',\n",
       " u'1969',\n",
       " u'196o',\n",
       " u'1970',\n",
       " u'19701971',\n",
       " u'1970estupend',\n",
       " u'1970la',\n",
       " u'1971',\n",
       " u'1971y',\n",
       " u'1972',\n",
       " u'1972la',\n",
       " u'1972par',\n",
       " u'1973',\n",
       " u'1973espect',\n",
       " u'1974',\n",
       " u'1974es',\n",
       " u'1975',\n",
       " u'1976',\n",
       " u'1977',\n",
       " u'1977el',\n",
       " u'1978',\n",
       " u'1979',\n",
       " u'1979black',\n",
       " u'1979espect',\n",
       " u'1979la',\n",
       " u'1980',\n",
       " u'1980espect',\n",
       " u'1981',\n",
       " u'1982',\n",
       " u'1982espect',\n",
       " u'1983',\n",
       " u'1984',\n",
       " u'1984y',\n",
       " u'1985',\n",
       " u'1985much',\n",
       " u'1986',\n",
       " u'1987',\n",
       " u'1988',\n",
       " u'1989',\n",
       " u'1989no',\n",
       " u'1990',\n",
       " u'1991',\n",
       " u'1991al',\n",
       " u'1992',\n",
       " u'1992salm',\n",
       " u'1993',\n",
       " u'1993dej',\n",
       " u'1993el',\n",
       " u'1993invasion',\n",
       " u'1994',\n",
       " u'1994alli',\n",
       " u'1995',\n",
       " u'1995espect',\n",
       " u'1995otr',\n",
       " u'1995y',\n",
       " u'1996',\n",
       " u'1997',\n",
       " u'1997espect',\n",
       " u'1998',\n",
       " u'1998espect',\n",
       " u'1998un',\n",
       " u'1999',\n",
       " u'19992001',\n",
       " u'19993',\n",
       " u'1999y',\n",
       " u'19lament',\n",
       " u'1diamant',\n",
       " u'1el',\n",
       " u'1er',\n",
       " u'1h408242',\n",
       " u'1muy',\n",
       " u'1o',\n",
       " u'1obvi',\n",
       " u'1rdqu',\n",
       " u'1tod',\n",
       " u'1un',\n",
       " u'1y',\n",
       " u'2',\n",
       " u'20',\n",
       " u'200',\n",
       " u'2000',\n",
       " u'20000',\n",
       " u'200000',\n",
       " u'20001',\n",
       " u'2000a',\n",
       " u'2000o',\n",
       " u'2001',\n",
       " u'20012003',\n",
       " u'20018243',\n",
       " u'2001aciert',\n",
       " u'2001lo',\n",
       " u'2002',\n",
       " u'2003',\n",
       " u'2003ahor',\n",
       " u'2004',\n",
       " u'2004en',\n",
       " u'2004espect',\n",
       " u'2004hoy',\n",
       " u'2004la',\n",
       " u'2004no',\n",
       " u'2004rdqu',\n",
       " u'2004remak',\n",
       " u'2004se',\n",
       " u'2004yo',\n",
       " u'2005',\n",
       " u'2005300',\n",
       " u'2005colin',\n",
       " u'2005empiez',\n",
       " u'2005los',\n",
       " u'2005per',\n",
       " u'2005polem',\n",
       " u'2006',\n",
       " u'2006a',\n",
       " u'2006con',\n",
       " u'2006el',\n",
       " u'2006hay',\n",
       " u'2006pens',\n",
       " u'2006reiter',\n",
       " u'2007',\n",
       " u'20078',\n",
       " u'2007al',\n",
       " u'2007ay',\n",
       " u'2007emm',\n",
       " u'2007en',\n",
       " u'2007es',\n",
       " u'2007espect',\n",
       " u'2007la',\n",
       " u'2007le',\n",
       " u'2007los',\n",
       " u'2007me',\n",
       " u'2007much',\n",
       " u'2007no',\n",
       " u'2007qui',\n",
       " u'2007valoracion',\n",
       " u'2008',\n",
       " u'2008en',\n",
       " u'2008hay',\n",
       " u'2008os',\n",
       " u'2008par',\n",
       " u'2008qu',\n",
       " u'2008teng',\n",
       " u'2009',\n",
       " u'2009men',\n",
       " u'2009the',\n",
       " u'2010',\n",
       " u'2012',\n",
       " u'2027',\n",
       " u'2028the',\n",
       " u'203',\n",
       " u'204',\n",
       " u'2046en',\n",
       " u'205',\n",
       " u'2054',\n",
       " u'2057',\n",
       " u'2060',\n",
       " u'20minut',\n",
       " u'20th',\n",
       " u'21',\n",
       " u'210',\n",
       " u'2100',\n",
       " u'214',\n",
       " u'2154692',\n",
       " u'22',\n",
       " u'2230',\n",
       " u'22m',\n",
       " u'23',\n",
       " u'230',\n",
       " u'23000',\n",
       " u'233sta',\n",
       " u'2351',\n",
       " u'236',\n",
       " u'236615',\n",
       " u'237',\n",
       " u'238243',\n",
       " u'23jim',\n",
       " u'24',\n",
       " u'24000',\n",
       " u'241',\n",
       " u'247',\n",
       " u'249',\n",
       " u'24th',\n",
       " u'25',\n",
       " u'250',\n",
       " u'250000',\n",
       " u'25137',\n",
       " u'255',\n",
       " u'257',\n",
       " u'26',\n",
       " u'26000',\n",
       " u'265',\n",
       " u'27',\n",
       " u'27000',\n",
       " u'27407',\n",
       " u'275744',\n",
       " u'28',\n",
       " u'280',\n",
       " u'28221',\n",
       " u'28242',\n",
       " u'29',\n",
       " u'2a',\n",
       " u'2d',\n",
       " u'2excelent',\n",
       " u'2ldquol',\n",
       " u'2prim',\n",
       " u'2rdqu',\n",
       " u'2sal',\n",
       " u'2se',\n",
       " u'2son',\n",
       " u'2x1',\n",
       " u'3',\n",
       " u'30',\n",
       " u'300',\n",
       " u'3000',\n",
       " u'300000',\n",
       " u'3008242',\n",
       " u'30092005',\n",
       " u'300o',\n",
       " u'300par',\n",
       " u'300rod',\n",
       " u'300si',\n",
       " u'31',\n",
       " u'310',\n",
       " u'310to',\n",
       " u'31468',\n",
       " u'3182',\n",
       " u'32',\n",
       " u'323',\n",
       " u'32675',\n",
       " u'33',\n",
       " u'33la',\n",
       " u'34',\n",
       " u'35',\n",
       " u'350',\n",
       " u'35017297',\n",
       " u'359',\n",
       " u'35mm',\n",
       " u'36',\n",
       " u'360',\n",
       " u'360000',\n",
       " u'364',\n",
       " u'37',\n",
       " u'370',\n",
       " u'38',\n",
       " u'380',\n",
       " u'38242',\n",
       " u'38243valoracion',\n",
       " u'39',\n",
       " u'3993',\n",
       " u'3d',\n",
       " u'3dhac',\n",
       " u'3ds',\n",
       " u'3dsu',\n",
       " u'3eddi',\n",
       " u'3er',\n",
       " u'3la',\n",
       " u'3prim',\n",
       " u'3rdqu',\n",
       " u'3rdquocont',\n",
       " u'3ya',\n",
       " u'4',\n",
       " u'40',\n",
       " u'400',\n",
       " u'4000',\n",
       " u'40000',\n",
       " u'400eur',\n",
       " u'4050',\n",
       " u'40con',\n",
       " u'40est',\n",
       " u'40rdqu',\n",
       " u'40s',\n",
       " u'42',\n",
       " u'420',\n",
       " u'43',\n",
       " u'43000',\n",
       " u'44',\n",
       " u'45',\n",
       " u'450000',\n",
       " u'4500000',\n",
       " u'451',\n",
       " u'4560',\n",
       " u'45un',\n",
       " u'46',\n",
       " u'47',\n",
       " u'47dirig',\n",
       " u'48',\n",
       " u'480',\n",
       " u'4844',\n",
       " u'484ac425dc',\n",
       " u'4851',\n",
       " u'49',\n",
       " u'4o',\n",
       " u'4plant',\n",
       " u'4x4',\n",
       " u'5',\n",
       " u'50',\n",
       " u'500',\n",
       " u'5000',\n",
       " u'50000',\n",
       " u'5060',\n",
       " u'507',\n",
       " u'50los',\n",
       " u'50s',\n",
       " u'50tal',\n",
       " u'50tambi',\n",
       " u'51',\n",
       " u'510',\n",
       " u'52',\n",
       " u'53',\n",
       " u'530',\n",
       " u'53000000',\n",
       " u'54',\n",
       " u'543',\n",
       " u'548243',\n",
       " u'54con',\n",
       " u'55',\n",
       " u'555',\n",
       " u'56',\n",
       " u'57',\n",
       " u'58',\n",
       " u'580',\n",
       " u'59',\n",
       " u'5la',\n",
       " u'5por',\n",
       " u'6',\n",
       " u'60',\n",
       " u'600',\n",
       " u'6000',\n",
       " u'60000',\n",
       " u'602',\n",
       " u'60desd',\n",
       " u'60s',\n",
       " u'61',\n",
       " u'610',\n",
       " u'614',\n",
       " u'62',\n",
       " u'6207',\n",
       " u'63',\n",
       " u'630',\n",
       " u'64',\n",
       " u'65',\n",
       " u'650',\n",
       " u'66',\n",
       " u'664288',\n",
       " u'664753',\n",
       " u'666',\n",
       " u'666de',\n",
       " u'66cars',\n",
       " u'66me',\n",
       " u'67',\n",
       " u'68',\n",
       " u'688',\n",
       " u'69',\n",
       " u'7',\n",
       " u'70',\n",
       " u'7000',\n",
       " u'70000',\n",
       " u'700000',\n",
       " u'707',\n",
       " u'70862478',\n",
       " u'70con',\n",
       " u'70el',\n",
       " u'70en',\n",
       " u'70mmvam',\n",
       " u'70otr',\n",
       " u'70s',\n",
       " u'710',\n",
       " u'72',\n",
       " u'720',\n",
       " u'73',\n",
       " u'730',\n",
       " u'7337',\n",
       " u'737',\n",
       " u'74',\n",
       " u'75',\n",
       " u'7510',\n",
       " u'751625',\n",
       " u'757',\n",
       " u'757222',\n",
       " u'76',\n",
       " u'77',\n",
       " u'775',\n",
       " u'78',\n",
       " u'79',\n",
       " u'7mo',\n",
       " u'7pd',\n",
       " u'8',\n",
       " u'80',\n",
       " u'800',\n",
       " u'800000',\n",
       " u'80000000',\n",
       " u'80besitospd',\n",
       " u'80otr',\n",
       " u'80s',\n",
       " u'80tant',\n",
       " u'81',\n",
       " u'810',\n",
       " u'810160',\n",
       " u'82',\n",
       " u'8212com',\n",
       " u'8212en',\n",
       " u'8216fotos8217',\n",
       " u'8216la',\n",
       " u'8220a',\n",
       " u'8220acorralado8220',\n",
       " u'8220acorralado8221',\n",
       " u'8220alien8220l',\n",
       " u'8220conjunt',\n",
       " u'8220de',\n",
       " u'8220el',\n",
       " u'8220esper',\n",
       " u'8220estil',\n",
       " u'8220limites',\n",
       " u'8220los',\n",
       " u'8220musculitos8221',\n",
       " u'8220nuev',\n",
       " u'8220oig',\n",
       " u'8220pedi',\n",
       " u'8220perdido8221',\n",
       " u'8220rambo8221',\n",
       " u'8220shrek',\n",
       " u'8220sin',\n",
       " u'8220tiburon8221',\n",
       " u'8220tip',\n",
       " u'8221hombr',\n",
       " u'8221shrek8221',\n",
       " u'83',\n",
       " u'84',\n",
       " u'85',\n",
       " u'86',\n",
       " u'87',\n",
       " u'870000',\n",
       " u'873743',\n",
       " u'875pd',\n",
       " u'88',\n",
       " u'89',\n",
       " u'893',\n",
       " u'8mas',\n",
       " u'8me',\n",
       " u'8mm',\n",
       " u'8pd',\n",
       " u'9',\n",
       " u'90',\n",
       " u'9000',\n",
       " u'90210',\n",
       " u'9095',\n",
       " u'90andrew',\n",
       " u'90apart',\n",
       " u'91',\n",
       " u'910',\n",
       " u'911',\n",
       " u'92',\n",
       " u'924',\n",
       " u'93',\n",
       " u'933973',\n",
       " u'938243',\n",
       " u'93asi',\n",
       " u'93nad',\n",
       " u'94',\n",
       " u'95',\n",
       " u'96',\n",
       " u'97',\n",
       " u'98',\n",
       " u'99',\n",
       " u'9pd',\n",
       " u'9sin',\n",
       " u'a113',\n",
       " u'a3',\n",
       " u'a3tv',\n",
       " u'aa',\n",
       " u'aaaaaa',\n",
       " u'aaaaaaaay',\n",
       " u'aaaaaah',\n",
       " u'aad',\n",
       " u'aadanl',\n",
       " u'aadel',\n",
       " u'aadi',\n",
       " u'aadid',\n",
       " u'aadidl',\n",
       " u'aadidoy',\n",
       " u'aadidur',\n",
       " u'aadimient',\n",
       " u'aadir',\n",
       " u'aadiri',\n",
       " u'aadirl',\n",
       " u'aalgui',\n",
       " u'aardm',\n",
       " u'aaron',\n",
       " u'aaz',\n",
       " u'abac',\n",
       " u'abad',\n",
       " u'abades',\n",
       " u'abadi',\n",
       " u'abadiardqu',\n",
       " u'abagnal',\n",
       " u'abaj',\n",
       " u'abajoaddend',\n",
       " u'abajoesencial',\n",
       " u'abajol',\n",
       " u'abajomir',\n",
       " u'abajotod',\n",
       " u'abal',\n",
       " u'abalanc',\n",
       " u'abalanzari',\n",
       " u'abalcon',\n",
       " u'abalori',\n",
       " u'aban',\n",
       " u'abander',\n",
       " u'abandon',\n",
       " u'abandonadomencion',\n",
       " u'abandonadopuert',\n",
       " u'abandonadoy',\n",
       " u'abandonaes',\n",
       " u'abandonarest',\n",
       " u'abandonel',\n",
       " u'abandonoaunqu',\n",
       " u'abandonoun',\n",
       " u'abarat',\n",
       " u'abarc',\n",
       " u'abarqu',\n",
       " u'abarr',\n",
       " u'abarrot',\n",
       " u'abascal',\n",
       " u'abast',\n",
       " u'abastec',\n",
       " u'abastr',\n",
       " u'abat',\n",
       " u'abatantuon',\n",
       " u'abba',\n",
       " u'abbey',\n",
       " u'abbi',\n",
       " u'abby',\n",
       " u'abc',\n",
       " u'abdelkad',\n",
       " u'abdom',\n",
       " u'abdominal',\n",
       " u'abduc',\n",
       " u'abduccion',\n",
       " u'abe',\n",
       " u'abej',\n",
       " u'abejil',\n",
       " u'abejitasparec',\n",
       " u'abel',\n",
       " u'aberr',\n",
       " u'aberracion',\n",
       " u'aberracionesl',\n",
       " u'abertxal',\n",
       " u'abertzal',\n",
       " u'abiert',\n",
       " u'abiertal',\n",
       " u'abiertardqu',\n",
       " u'abiertaun',\n",
       " u'abiertisim',\n",
       " u'abiertociert',\n",
       " u'abietardqu',\n",
       " u'abigail',\n",
       " u'abigarr',\n",
       " u'abism',\n",
       " u'abismal',\n",
       " u'abismodesd',\n",
       " u'abismoull',\n",
       " u'abland',\n",
       " u'abneg',\n",
       " u'abnegacion',\n",
       " u'abob',\n",
       " u'aboc',\n",
       " u'abochorn',\n",
       " u'abofet',\n",
       " u'abofete',\n",
       " u'abofeteari',\n",
       " u'abog',\n",
       " u'abogaci',\n",
       " u'abol',\n",
       " u'aboleng',\n",
       " u'aboli',\n",
       " u'abolicion',\n",
       " u'abolid',\n",
       " u'abolut',\n",
       " u'abomin',\n",
       " u'abominacion',\n",
       " u'abon',\n",
       " u'abord',\n",
       " u'abordaj',\n",
       " u'aborig',\n",
       " u'aborigen',\n",
       " u'aborigenesresum',\n",
       " u'aborrec',\n",
       " u'aborrecen',\n",
       " u'aborrecer',\n",
       " u'aborreg',\n",
       " u'aborrezc',\n",
       " u'abort',\n",
       " u'abortad',\n",
       " u'abortadon',\n",
       " u'aborto4',\n",
       " u'abortoel',\n",
       " u'abotarg',\n",
       " u'about',\n",
       " u'abovin',\n",
       " u'abra',\n",
       " u'abrac',\n",
       " u'abracit',\n",
       " u'abraham',\n",
       " u'abrahams',\n",
       " u'abrahamszuck',\n",
       " u'abrams',\n",
       " u'abran',\n",
       " u'abras',\n",
       " u'abraz',\n",
       " u'abrazarlay',\n",
       " u'abrazopd',\n",
       " u'abre',\n",
       " u'abrelat',\n",
       " u'abren',\n",
       " u'abres',\n",
       " u'abrevi',\n",
       " u'abreviadoun',\n",
       " u'abri',\n",
       " u'abriend',\n",
       " u'abriendos',\n",
       " u'abrier',\n",
       " u'abrieron',\n",
       " u'abrig',\n",
       " u'abril',\n",
       " u'abrim',\n",
       " u'abrir',\n",
       " u'abriri',\n",
       " u'abrirl',\n",
       " u'abrirs',\n",
       " u'abrirsecaminoenlavidaagolp',\n",
       " u'abro',\n",
       " u'abrochens',\n",
       " u'abrum',\n",
       " u'abrumador',\n",
       " u'abrumart',\n",
       " u'abrupt',\n",
       " u'abrut',\n",
       " u'absatraccion',\n",
       " u'abscension',\n",
       " u'absent',\n",
       " u'absolu',\n",
       " u'absolucionmil',\n",
       " u'absolut',\n",
       " u'absolutaesper',\n",
       " u'absolutamtent',\n",
       " u'absolutasalv',\n",
       " u'absolutm',\n",
       " u'absolutmanet',\n",
       " u'absoluto',\n",
       " u'absolutobast',\n",
       " u'absolutoel',\n",
       " u'absolutol',\n",
       " u'absolutoper',\n",
       " u'absolutopor',\n",
       " u'absolutopud',\n",
       " u'absolutoun',\n",
       " u'absorb',\n",
       " u'absorbent',\n",
       " u'absorbi',\n",
       " u'absorcion',\n",
       " u'absort',\n",
       " u'absorvent',\n",
       " u'absten',\n",
       " u'abstencion',\n",
       " u'abstener',\n",
       " u'absteng',\n",
       " u'abstengans',\n",
       " u'abstent',\n",
       " u'abstien',\n",
       " u'abstra',\n",
       " u'abstraccion',\n",
       " u'abstract',\n",
       " u'abstraert',\n",
       " u'abstraidosun',\n",
       " u'absurd',\n",
       " u'absurdaper',\n",
       " u'absurdarichard',\n",
       " u'absurdec',\n",
       " u'absurdez',\n",
       " u'absurdisim',\n",
       " u'absurdocu',\n",
       " u'absurdodeb',\n",
       " u'absurdodiferenci',\n",
       " u'absurdohabl',\n",
       " u'absurdopd2',\n",
       " u'absurdoplanet',\n",
       " u'absurdopor',\n",
       " u'absurdoresum',\n",
       " u'absurdoromanticon',\n",
       " u'absurdosurreal',\n",
       " u'absurdpop',\n",
       " u'abu',\n",
       " u'abuass',\n",
       " u'abuch',\n",
       " u'abuel',\n",
       " u'abueladestacari',\n",
       " u'abuelet',\n",
       " u'abuelit',\n",
       " u'abuelodespu',\n",
       " u'abuert',\n",
       " u'abulens',\n",
       " u'abuli',\n",
       " u'abult',\n",
       " u'abund',\n",
       " u'abundaal',\n",
       " u'abundament',\n",
       " u'aburgues',\n",
       " u'aburr',\n",
       " u'aburrel',\n",
       " u'aburren3',\n",
       " u'aburreporqu',\n",
       " u'aburretir',\n",
       " u'aburri',\n",
       " u'aburricionpor',\n",
       " u'aburrid',\n",
       " u'aburridad',\n",
       " u'aburridael',\n",
       " u'aburridahij',\n",
       " u'aburridal',\n",
       " u'aburridamuert',\n",
       " u'aburridasimpat',\n",
       " u'aburridasl',\n",
       " u'aburridassi',\n",
       " u'aburriday',\n",
       " u'aburridill',\n",
       " u'aburridis',\n",
       " u'aburridisim',\n",
       " u'aburridobesitospd',\n",
       " u'aburridocom',\n",
       " u'aburridod',\n",
       " u'aburridoel',\n",
       " u'aburridoldquoun',\n",
       " u'aburridoper',\n",
       " u'aburridosecundari',\n",
       " u'aburridoshay',\n",
       " u'aburridosl',\n",
       " u'aburridsimal',\n",
       " u'aburrimientocurtis',\n",
       " u'aburrimientoel',\n",
       " u'aburrimientoporqu',\n",
       " u'aburrimientosalv',\n",
       " u'aburrimientoth',\n",
       " u'aburriobesit',\n",
       " u'aburrir',\n",
       " u'aburrirn',\n",
       " u'aburrirresum',\n",
       " u'aburrirt',\n",
       " u'aburrirun',\n",
       " u'aburrirwolfgang',\n",
       " u'aburris',\n",
       " u'aburrooordqu',\n",
       " u'abus',\n",
       " u'abusol',\n",
       " u'abusostant',\n",
       " u'abyect',\n",
       " u'ac',\n",
       " u'aca',\n",
       " u'acab',\n",
       " u'acabab',\n",
       " u'acabar',\n",
       " u'acabarentonc',\n",
       " u'acabari',\n",
       " u'acabartampoc',\n",
       " ...]"
      ]
     },
     "execution_count": 5,
     "metadata": {},
     "output_type": "execute_result"
    }
   ],
   "source": [
    "model_vect.get_feature_names()"
   ]
  },
  {
   "cell_type": "code",
   "execution_count": 6,
   "metadata": {
    "collapsed": false
   },
   "outputs": [],
   "source": [
    "assert(len(documents[0]['body_tokens'])==docs_vect[0].sum())"
   ]
  },
  {
   "cell_type": "code",
   "execution_count": 7,
   "metadata": {
    "collapsed": false
   },
   "outputs": [
    {
     "name": "stdout",
     "output_type": "stream",
     "text": [
      "272.0\n"
     ]
    }
   ],
   "source": [
    "print docs_vect[0].sum()"
   ]
  },
  {
   "cell_type": "code",
   "execution_count": 8,
   "metadata": {
    "collapsed": false
   },
   "outputs": [
    {
     "name": "stdout",
     "output_type": "stream",
     "text": [
      "[[ 0.  0.  0. ...,  0.  0.  0.]]\n"
     ]
    }
   ],
   "source": [
    "print docs_vect[0].toarray()  # Sparse representation"
   ]
  },
  {
   "cell_type": "markdown",
   "metadata": {},
   "source": [
    "## Similitud entre documentos"
   ]
  },
  {
   "cell_type": "code",
   "execution_count": 9,
   "metadata": {
    "collapsed": true
   },
   "outputs": [],
   "source": [
    "from sklearn.metrics.pairwise import cosine_similarity"
   ]
  },
  {
   "cell_type": "code",
   "execution_count": 10,
   "metadata": {
    "collapsed": false
   },
   "outputs": [],
   "source": [
    "def find_most_similars(doc_id, docs_vect, n=1):\n",
    "    '''Return the most (n) similar documents from the list\n",
    "    '''\n",
    "    rank = sorted(enumerate(cosine_similarity(docs_vect[doc_id], docs_vect)[0]), reverse=True, key= lambda (_,similarity): similarity)\n",
    "    rank = [x for x in rank if x[0]!=doc_id] # Filter original doc\n",
    "    return rank[:n]"
   ]
  },
  {
   "cell_type": "code",
   "execution_count": 11,
   "metadata": {
    "collapsed": false
   },
   "outputs": [
    {
     "data": {
      "text/plain": [
       "[(3011, 0.33311374166161162),\n",
       " (2170, 0.32230902580226484),\n",
       " (560, 0.32168275120635026),\n",
       " (234, 0.31674820650634389)]"
      ]
     },
     "execution_count": 11,
     "metadata": {},
     "output_type": "execute_result"
    }
   ],
   "source": [
    "find_most_similars(0, docs_vect, 4)"
   ]
  },
  {
   "cell_type": "code",
   "execution_count": 12,
   "metadata": {
    "collapsed": true
   },
   "outputs": [],
   "source": [
    "all_sims = cosine_similarity(docs_vect, docs_vect)  # NxN document similarity matrix\n",
    "np.fill_diagonal(all_sims,0)  # The most similar document is itself, set to 0\n",
    "most_similar = all_sims.argmax(axis=1)\n",
    "similarities = []  # (doc,doc, similarity) for most similar document to each one\n",
    "for n_doc in xrange(len(documents)):\n",
    "    sim_doc = most_similar[n_doc]\n",
    "    similarities.append( (n_doc, sim_doc, all_sims[n_doc, sim_doc]) )\n",
    "similarities.sort(key=lambda x:x[2], reverse=True)"
   ]
  },
  {
   "cell_type": "code",
   "execution_count": 13,
   "metadata": {
    "collapsed": false
   },
   "outputs": [
    {
     "data": {
      "text/plain": [
       "[(1405, 1430, 1.0000000000000024),\n",
       " (1430, 1405, 1.0000000000000024),\n",
       " (3015, 3016, 1.0000000000000013),\n",
       " (3016, 3015, 1.0000000000000013),\n",
       " (1479, 1493, 0.99999999999999833),\n",
       " (1493, 1479, 0.99999999999999833),\n",
       " (1284, 1286, 0.999999999999998),\n",
       " (1286, 1284, 0.999999999999998),\n",
       " (1661, 3580, 0.99671727146705169),\n",
       " (3580, 1661, 0.99671727146705169),\n",
       " (1180, 1243, 0.99663864595149498),\n",
       " (1243, 1180, 0.99663864595149498),\n",
       " (3008, 3018, 0.97706422018348571),\n",
       " (3018, 3008, 0.97706422018348571),\n",
       " (2685, 2774, 0.97348944743158494),\n",
       " (2774, 2685, 0.97348944743158494),\n",
       " (852, 1477, 0.93293376663619221),\n",
       " (1477, 852, 0.93293376663619221),\n",
       " (1955, 2005, 0.90712052044799296),\n",
       " (2005, 1955, 0.90712052044799296)]"
      ]
     },
     "execution_count": 13,
     "metadata": {},
     "output_type": "execute_result"
    }
   ],
   "source": [
    "similarities[:20]"
   ]
  },
  {
   "cell_type": "markdown",
   "metadata": {},
   "source": [
    "Parece que hay documentos muy parecidos."
   ]
  },
  {
   "cell_type": "code",
   "execution_count": 14,
   "metadata": {
    "collapsed": false
   },
   "outputs": [
    {
     "data": {
      "text/plain": [
       "[(1479, 1493, 0.99999999999999833),\n",
       " (1493, 1479, 0.99999999999999833),\n",
       " (1284, 1286, 0.999999999999998),\n",
       " (1286, 1284, 0.999999999999998),\n",
       " (1661, 3580, 0.99671727146705169),\n",
       " (3580, 1661, 0.99671727146705169),\n",
       " (1180, 1243, 0.99663864595149498),\n",
       " (1243, 1180, 0.99663864595149498),\n",
       " (3008, 3018, 0.97706422018348571),\n",
       " (3018, 3008, 0.97706422018348571),\n",
       " (2685, 2774, 0.97348944743158494),\n",
       " (2774, 2685, 0.97348944743158494),\n",
       " (852, 1477, 0.93293376663619221),\n",
       " (1477, 852, 0.93293376663619221),\n",
       " (1955, 2005, 0.90712052044799296),\n",
       " (2005, 1955, 0.90712052044799296),\n",
       " (2931, 3153, 0.63421150849425934),\n",
       " (3153, 2931, 0.63421150849425934),\n",
       " (1038, 1101, 0.62157726868410945),\n",
       " (1101, 1038, 0.62157726868410945)]"
      ]
     },
     "execution_count": 14,
     "metadata": {},
     "output_type": "execute_result"
    }
   ],
   "source": [
    "# Quitar duplicados, mismo texto y autor\n",
    "\n",
    "similarities = [\n",
    "    (doc1,doc2,sim)\n",
    "    for doc1,doc2,sim in similarities\n",
    "    if not (\n",
    "        documents[doc1]['body'] == documents[doc2]['body'] and\n",
    "        documents[doc1]['author'] == documents[doc2]['author']\n",
    "    )\n",
    "]\n",
    "\n",
    "similarities[:20]"
   ]
  },
  {
   "cell_type": "code",
   "execution_count": 15,
   "metadata": {
    "collapsed": false
   },
   "outputs": [
    {
     "data": {
      "text/plain": [
       "<matplotlib.axes._subplots.AxesSubplot at 0x7ff200862110>"
      ]
     },
     "execution_count": 15,
     "metadata": {},
     "output_type": "execute_result"
    },
    {
     "data": {
      "image/png": "[encoded data removed]",
      "text/plain": [
       "<matplotlib.figure.Figure at 0x7ff23e4ca110>"
      ]
     },
     "metadata": {},
     "output_type": "display_data"
    }
   ],
   "source": [
    "sns.distplot([x[2] for x in similarities])"
   ]
  },
  {
   "cell_type": "markdown",
   "metadata": {},
   "source": [
    "### Encontrar copiones de comentarios"
   ]
  },
  {
   "cell_type": "code",
   "execution_count": 16,
   "metadata": {
    "collapsed": false
   },
   "outputs": [],
   "source": [
    "def find_copycats(similarities, threshold):\n",
    "    \"\"\"Documentos muy parecidos con diferentes autores\"\"\"\n",
    "    retval = []\n",
    "    for doc1,doc2,score in similarities:\n",
    "        if score>threshold and documents[doc1]['author']!=documents[doc2]['author']:\n",
    "            retval.append((doc1,doc2,score))\n",
    "    return retval"
   ]
  },
  {
   "cell_type": "code",
   "execution_count": 17,
   "metadata": {
    "collapsed": false
   },
   "outputs": [
    {
     "data": {
      "text/plain": [
       "[(1479, 1493, 0.99999999999999833),\n",
       " (1493, 1479, 0.99999999999999833),\n",
       " (1284, 1286, 0.999999999999998),\n",
       " (1286, 1284, 0.999999999999998)]"
      ]
     },
     "execution_count": 17,
     "metadata": {},
     "output_type": "execute_result"
    }
   ],
   "source": [
    "find_copycats(similarities,0.65)"
   ]
  },
  {
   "cell_type": "code",
   "execution_count": 18,
   "metadata": {
    "collapsed": false
   },
   "outputs": [
    {
     "name": "stdout",
     "output_type": "stream",
     "text": [
      "Authors: Albert Puyuelo-Francisco Bellón, 1.0\n",
      "Authors: Francisco Bellón-Albert Puyuelo, 1.0\n",
      "Authors: Francisco Bellón-Albert Puyuelo, 1.0\n",
      "Authors: Albert Puyuelo-Francisco Bellón, 1.0\n"
     ]
    }
   ],
   "source": [
    "for doc1,doc2,score in find_copycats(similarities,0.65):\n",
    "    print u\"Authors: {}-{}, {}\".format(documents[doc1]['author'], documents[doc2]['author'], score)"
   ]
  },
  {
   "cell_type": "markdown",
   "metadata": {},
   "source": [
    "### Los dos documentos más parecidos"
   ]
  },
  {
   "cell_type": "code",
   "execution_count": 19,
   "metadata": {
    "collapsed": false,
    "scrolled": true
   },
   "outputs": [
    {
     "name": "stdout",
     "output_type": "stream",
     "text": [
      "Score: 0.634211508494\n",
      "\n",
      "Rafa Ferrer\n",
      "Alien vs Predator\n",
      "Si soy sincero el proyecto no me llamaba lo más mínimo, y tampoco tenía una curiosidad excesiva por la película, si bien es verdad que este verano me he dedicado a echarle un ojo a la saga Alien y que las películas de Depredador hace bastante tiempo que las vi, vaya si exagerar por lo menos como 10 ańitos. Sin lugar a dudas, hacer un \"Crossover\" (mezcla de dos sagas) con dos personajes tan emblemáticos del cine de sci-fi de la FOX me parecía una soberana memez y más una vez que vi aquella idiotez llamada \"Freddy Vs Jason\" que tuve que aguantar entre una mezcla de sopor y ganas de matar a más de uno. Pues bien, aqui casi se repite la misma fórmula, aderezada con cine de entretenimiento o de acción, lo podeis llamar de las dos formas y es casi casi lo mismo, asi que tenemos a los Aliens si la teniente Ripley, mira que la he estado echando de menos durante la hora y 20 min. de metraje y por el otro lado a los depredadores. En medio a una panda de pardillos a los que deseas que se carguen cuanto antes, por que son simples, tontos y descerebrados al mas no poder, vaya de esos que cuando se los van cargando dices !SIIII FIESSSTA! por que mira que ponen a tiparracos tontos en esta clase de películas, nunca hay alguno con el que te sientas más o menos identificado. Una banda sonora que mezcla en partes iguales la música de las dos sagas, juntas pero no revueltas, eso si. y un director Paul W.S. Anderson, que tal vez lo mejor que ha hecho en su vida ha sido salir con Milla Jovovich, por que su filmografía apesta tanto como mis calcetines después de un partido de fútbol sala. \n",
      "\n",
      "Rafa Ferrer\n",
      "Alien vs Predator 2\n",
      "Si soy sincero esta segunda entrega tampoco me llamaba lo más mínimo la atención, y ha sido un compańero el que casi me ha empujado a verla, no tenía una curiosidad excesiva por la secuela, si bien es verdad que aunque he seguido el proyecto, lo he hecho casi de mero observador, sin involucrarme en él, y sin desear lo más minimo ver algo plasmado en pantalla.Sin lugar a dudas, hacer una secuela de un \"Crossover\" (mezcla de dos sagas) con dos personajes tan emblemáticos del cine de sci-fi de la FOX me parecía una soberana memez pero, amigos, la taquilla manda. Y bien, se repite la misma fórmula, aderezada con cine de entretenimiento o de acción, lo podéis llamar de las dos formas y es casi casi lo mismo, así que tenemos a los Aliens sin la teniente Ripley (sustituida por una madre, militar de profesión con una nińa a su cargo, jeje como en \"Aliens\"), mira que la he estado echando de menos durante la hora y 20 min. de metraje y por el otro lado al depredador, żQué pasa, que más de uno se les iba de presupuesto?En medio a una panda de pardillos a los que deseas que se carguen cuanto antes, por que son simples, tontos y descerebrados al mas no poder, vaya de esos que cuando se los van cargando dices !SIIII FIESSSTA! por que mira que ponen a tiparracos tontos en esta clase de películas, nunca hay alguno con el que te sientas más o menos identificado, aparte que no sé muy bien porqué motivo, buena parte de la cinta me ha recordado a \"Transformers\" de Michael Bay, chico tonto, tía buenorra, bichos, y demás gilipolleces, solo faltaba el \"Cubo de Rubick\".El argumento cabe en media cuartilla, también su guión (en el resto de cuartilla sobrante), los actores están para matarlos (jeje) y, refiriendome a la frase \"superoriginal\" del poster, donde si que podían oir mis gritos (o casi) ha sido en la sala, maldiciendo, primero a mi compańero, y después a todos aquellos imbéciles que se gastaron su dinero en ver la primera parte y que nos han castigado con esta segunda, además de que en las escenas de lucha, entre tanta oscuridad (tal vez para proteger la cinta de Screeners) no se consigue apreciar nada, y uno sale de cada escena de lucha más confuso que.Resumiendo: Es una mierda pinchada en un palo, sin argumento, sin efectos, sin nada que merezca la pena.\n"
     ]
    }
   ],
   "source": [
    "def print_doc(doc):\n",
    "    print doc['author']\n",
    "    print doc['title']\n",
    "    print doc['body']\n",
    "\n",
    "doc1, doc2, score = [s for s in similarities if s[2]<0.65][0]\n",
    "print \"Score: {}\\n\".format(score)\n",
    "print_doc(documents[doc1])\n",
    "print \"\"\n",
    "print_doc(documents[doc2])"
   ]
  },
  {
   "cell_type": "markdown",
   "metadata": {},
   "source": [
    "### Ejecución de consultas"
   ]
  },
  {
   "cell_type": "code",
   "execution_count": 20,
   "metadata": {
    "collapsed": false
   },
   "outputs": [],
   "source": [
    "# Función de pasar textos a tokens, del cuaderno anterior\n",
    "\n",
    "STOPWORDS = set('''\n",
    "a al algo algunas algunos ante antes como con contra cual cuando de del desde donde durante e el ella ellas ellos\n",
    "en entre era erais eran eras eres es esa esas ese eso esos esta estaba estabais estaban estabas estad estada estadas\n",
    "estado estados estamos estando estar estaremos estara estaran estaras estare estareis estaria estariais estariamos\n",
    "estarian estarias estas este estemos esto estos estoy estuve estuviera estuvierais estuvieran estuvieras estuvieron\n",
    "estuviese estuvieseis estuviesen estuvieses estuvimos estuviste estuvisteis estuvieramos estuviesemos estuvo esta\n",
    "estabamos estais estan estas este esteis esten estes fue fuera fuerais fueran fueras fueron fuese fueseis fuesen fueses\n",
    "fui fuimos fuiste fuisteis fueramos fuesemos ha habida habidas habido habidos habiendo habremos habra habran habras\n",
    "habre habreis habria habriais habriamos habrian habrias habeis habia habiais habiamos habian habias han has hasta\n",
    "hay haya hayamos hayan hayas hayais he hemos hube hubiera hubierais hubieran hubieras hubieron hubiese hubieseis\n",
    "hubiesen hubieses hubimos hubiste hubisteis hubieramos hubiesemos hubo la las le les lo los me mi mis mucho muchos\n",
    "muy mas mi mia mias mio mios nada ni no nos nosotras nosotros nuestra nuestras nuestro nuestros o os otra otras otro\n",
    "otros para pero poco por porque que quien quienes que se sea seamos sean seas sentid sentida sentidas sentido sentidos\n",
    "seremos sera seran seras sere sereis seria seriais seriamos serian serias seais siente sin sintiendo sobre sois somos\n",
    "son soy su sus suya suyas suyo suyos si tambien tanto te tendremos tendra tendran tendras tendre tendreis tendria\n",
    "tendriais tendriamos tendrian tendrias tened tenemos tenga tengamos tengan tengas tengo tengais tenida tenidas tenido\n",
    "tenidos teniendo teneis tenia teniais teniamos tenian tenias ti tiene tienen tienes todo todos tu tus tuve tuviera\n",
    "tuvierais tuvieran tuvieras tuvieron tuviese tuvieseis tuviesen tuvieses tuvimos tuviste tuvisteis tuvieramos tuviesemos\n",
    "tuvo tuya tuyas tuyo tuyos tu un una uno unos vosostras vosostros vuestra vuestras vuestro vuestros y ya yo el eramos\n",
    "'''.split())\n",
    "\n",
    "from nltk.stem.snowball import SpanishStemmer\n",
    "stemmer = SpanishStemmer()\n",
    "\n",
    "def txt2words(txt):\n",
    "    txt = txt.lower()  # Text in lowercase\n",
    "    table = dict(zip( #  Quitar tildes\n",
    "        [ord(x) for x in u'áéíóúü'],\n",
    "        [ord(x) for x in u'aeiouu']\n",
    "    ))\n",
    "    txt = txt.translate(table)    \n",
    "    txt = ''.join([\n",
    "        letter for letter in txt \n",
    "        if letter in set(u'abcdefghijklmnñopqrstuvwxyz0123456789 ')]\n",
    "    )\n",
    "    words = [\n",
    "        stemmer.stem(w)\n",
    "        for w in txt.split(' ')\n",
    "        if w!='' and w not in STOPWORDS\n",
    "    ]\n",
    "    return words"
   ]
  },
  {
   "cell_type": "code",
   "execution_count": 24,
   "metadata": {
    "collapsed": true
   },
   "outputs": [],
   "source": [
    "def query_vect(text):\n",
    "    doc = model_vect.transform(Counter(txt2words(text)))\n",
    "    similarities = cosine_similarity(doc, docs_vect)\n",
    "    doc_id,score = similarities.argmax(), similarities.max()    \n",
    "    print doc_id\n",
    "    print u\"Pelicula: '{}'\\nPuntuacion:{}\".format(documents[doc_id]['title'],score)"
   ]
  },
  {
   "cell_type": "code",
   "execution_count": 25,
   "metadata": {
    "collapsed": false,
    "scrolled": true
   },
   "outputs": [
    {
     "name": "stdout",
     "output_type": "stream",
     "text": [
      "477\n",
      "Pelicula: 'Toro salvaje'\n",
      "Puntuacion:0.414424863491\n",
      "477\n",
      "Pelicula: 'Toro salvaje'\n",
      "Puntuacion:0.286909520879\n"
     ]
    }
   ],
   "source": [
    "# Tematica correcta\n",
    "query_vect(u'quiero una pelicula de boxeo')\n",
    "query_vect(u'quiero una peli de boxeo')"
   ]
  },
  {
   "cell_type": "code",
   "execution_count": 26,
   "metadata": {
    "collapsed": false,
    "scrolled": true
   },
   "outputs": [
    {
     "name": "stdout",
     "output_type": "stream",
     "text": [
      "687\n",
      "Pelicula: 'Hannibal: El origen del mal'\n",
      "Puntuacion:0.406695025642\n",
      "1439\n",
      "Pelicula: '28 semanas después'\n",
      "Puntuacion:0.275589127305\n"
     ]
    }
   ],
   "source": [
    "# Understemming\n",
    "query_vect(u'quiero una pelicula triste')\n",
    "query_vect(u'quiero una peli triste')"
   ]
  },
  {
   "cell_type": "code",
   "execution_count": 27,
   "metadata": {
    "collapsed": false
   },
   "outputs": [
    {
     "name": "stdout",
     "output_type": "stream",
     "text": [
      "3124\n",
      "Pelicula: 'John Rambo'\n",
      "Puntuacion:0.511766315719\n"
     ]
    }
   ],
   "source": [
    "query_vect(u'Algo de rambo')"
   ]
  },
  {
   "cell_type": "code",
   "execution_count": 28,
   "metadata": {
    "collapsed": false
   },
   "outputs": [
    {
     "name": "stdout",
     "output_type": "stream",
     "text": [
      "81\n",
      "Pelicula: 'Serenity'\n",
      "Puntuacion:0.249351490477\n"
     ]
    }
   ],
   "source": [
    "query_vect(u'ciencia ficción futurista')"
   ]
  },
  {
   "cell_type": "code",
   "execution_count": 29,
   "metadata": {
    "collapsed": false
   },
   "outputs": [
    {
     "name": "stdout",
     "output_type": "stream",
     "text": [
      "3528\n",
      "Pelicula: 'Brokeback mountain'\n",
      "Puntuacion:0.244444444444\n"
     ]
    }
   ],
   "source": [
    "query_vect(u'amor romántico bobo')"
   ]
  },
  {
   "cell_type": "code",
   "execution_count": 30,
   "metadata": {
    "collapsed": false
   },
   "outputs": [
    {
     "name": "stdout",
     "output_type": "stream",
     "text": [
      "659\n",
      "Pelicula: 'Admitido'\n",
      "Puntuacion:0.320172547622\n"
     ]
    }
   ],
   "source": [
    "query_vect(u'americanada universidad')"
   ]
  },
  {
   "cell_type": "markdown",
   "metadata": {},
   "source": [
    "## TF-IDF (Term Frequency - Inverse Document Frequency)"
   ]
  },
  {
   "cell_type": "code",
   "execution_count": 31,
   "metadata": {
    "collapsed": true
   },
   "outputs": [],
   "source": [
    "from sklearn.feature_extraction.text import TfidfTransformer"
   ]
  },
  {
   "cell_type": "code",
   "execution_count": 32,
   "metadata": {
    "collapsed": false
   },
   "outputs": [],
   "source": [
    "model_tfidf = TfidfTransformer()\n",
    "docs_tfidf = model_tfidf.fit_transform(docs_vect)\n",
    "\n",
    "def query_tfidf(text):\n",
    "    doc,score = query_documents(text, model_tfidf, docs_tfidf)\n",
    "    print doc\n",
    "    print u\"Pelicula: '{}'\\nPuntuacion:{}\".format(documents[doc]['title'],score)"
   ]
  },
  {
   "cell_type": "code",
   "execution_count": 33,
   "metadata": {
    "collapsed": true
   },
   "outputs": [],
   "source": [
    "def query_tfidf(text):\n",
    "    doc = model_tfidf.transform(  # IDF learn\n",
    "            model_vect.transform(  # Matrix representation\n",
    "                Counter(txt2words(text))  # Dict of frequencies\n",
    "            )\n",
    "    )\n",
    "    similarities = cosine_similarity(doc, docs_tfidf)\n",
    "    doc_id,score = similarities.argmax(), similarities.max()    \n",
    "    print doc_id\n",
    "    print u\"Pelicula: '{}'\\nPuntuacion:{}\".format(documents[doc_id]['title'],score)"
   ]
  },
  {
   "cell_type": "code",
   "execution_count": 37,
   "metadata": {
    "collapsed": false
   },
   "outputs": [
    {
     "name": "stdout",
     "output_type": "stream",
     "text": [
      "477\n",
      "Pelicula: 'Toro salvaje'\n",
      "Puntuacion:0.442646692449\n",
      "477\n",
      "Pelicula: 'Toro salvaje'\n",
      "Puntuacion:0.430238389799\n"
     ]
    }
   ],
   "source": [
    "# Normalizacion peli -pelicula\n",
    "query_tfidf(u'quiero una pelicula de boxeo')\n",
    "query_tfidf(u'quiero una peli de boxeo')"
   ]
  },
  {
   "cell_type": "code",
   "execution_count": 41,
   "metadata": {
    "collapsed": false
   },
   "outputs": [
    {
     "name": "stdout",
     "output_type": "stream",
     "text": [
      "2194\n",
      "Pelicula: 'El Orfanato'\n",
      "Puntuacion:0.199029167083\n",
      "1439\n",
      "Pelicula: '28 semanas después'\n",
      "Puntuacion:0.240531731821\n"
     ]
    }
   ],
   "source": [
    "# Understemming\n",
    "query_tfidf(u'quiero una pelicula triste')\n",
    "query_tfidf(u'quiero una peli triste')"
   ]
  },
  {
   "cell_type": "code",
   "execution_count": 43,
   "metadata": {
    "collapsed": false
   },
   "outputs": [
    {
     "name": "stdout",
     "output_type": "stream",
     "text": [
      "3402\n",
      "Pelicula: 'Separados'\n",
      "Puntuacion:0.316336572803\n"
     ]
    }
   ],
   "source": [
    "query_tfidf(u'')"
   ]
  },
  {
   "cell_type": "code",
   "execution_count": 39,
   "metadata": {
    "collapsed": false
   },
   "outputs": [
    {
     "name": "stdout",
     "output_type": "stream",
     "text": [
      "946\n",
      "Pelicula: 'Sunshine'\n",
      "Puntuacion:0.281631920536\n"
     ]
    }
   ],
   "source": [
    "query_tfidf(u'ciencia ficción futurista')"
   ]
  },
  {
   "cell_type": "markdown",
   "metadata": {},
   "source": [
    "### Propiedades interesantes"
   ]
  },
  {
   "cell_type": "code",
   "execution_count": null,
   "metadata": {
    "collapsed": true
   },
   "outputs": [],
   "source": [
    "# Todo ejemplo stopwords"
   ]
  },
  {
   "cell_type": "code",
   "execution_count": null,
   "metadata": {
    "collapsed": true
   },
   "outputs": [],
   "source": []
  }
 ],
 "metadata": {
  "kernelspec": {
   "display_name": "Python 2",
   "language": "python",
   "name": "python2"
  },
  "language_info": {
   "codemirror_mode": {
    "name": "ipython",
    "version": 2
   },
   "file_extension": ".py",
   "mimetype": "text/x-python",
   "name": "python",
   "nbconvert_exporter": "python",
   "pygments_lexer": "ipython2",
   "version": "2.7.12"
  }
 },
 "nbformat": 4,
 "nbformat_minor": 2
}
