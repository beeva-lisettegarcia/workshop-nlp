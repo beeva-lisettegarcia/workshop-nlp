{
 "cells": [
  {
   "cell_type": "markdown",
   "metadata": {},
   "source": [
    "# Palabras clave (2ª versión)"
   ]
  },
  {
   "cell_type": "markdown",
   "metadata": {},
   "source": [
    "## Cargar dataset generado"
   ]
  },
  {
   "cell_type": "code",
   "execution_count": 1,
   "metadata": {
    "collapsed": false
   },
   "outputs": [],
   "source": [
    "import json\n",
    "import zlib\n",
    "\n",
    "import config\n",
    "\n",
    "# Import\n",
    "with open(config.DATASET_MUCHOCINE, 'r') as fd:\n",
    "    documents = json.loads(zlib.decompress(fd.read()))\n",
    "    \n",
    "my_document = documents[1478]  # 'Harry Potter y la piedra filosofal'"
   ]
  },
  {
   "cell_type": "code",
   "execution_count": 2,
   "metadata": {
    "collapsed": false
   },
   "outputs": [
    {
     "name": "stdout",
     "output_type": "stream",
     "text": [
      "Harry Potter y la piedra filosofal\n"
     ]
    }
   ],
   "source": [
    "print my_document['title']"
   ]
  },
  {
   "cell_type": "markdown",
   "metadata": {},
   "source": [
    "## Calcular TF"
   ]
  },
  {
   "cell_type": "code",
   "execution_count": 3,
   "metadata": {
    "collapsed": true
   },
   "outputs": [],
   "source": [
    "from collections import Counter\n",
    "\n",
    "for d in documents:\n",
    "    d['TF'] = Counter(d['body_tokens'])"
   ]
  },
  {
   "cell_type": "code",
   "execution_count": 4,
   "metadata": {
    "collapsed": false
   },
   "outputs": [
    {
     "data": {
      "text/plain": [
       "[(u'pelicul', 4),\n",
       " (u'gust', 3),\n",
       " (u'primer', 2),\n",
       " (u'personaj', 2),\n",
       " (u'encant', 2),\n",
       " (u'fan', 2),\n",
       " (u'magic', 2),\n",
       " (u'cas', 2),\n",
       " (u'cre', 2),\n",
       " (u'harry', 2)]"
      ]
     },
     "execution_count": 4,
     "metadata": {},
     "output_type": "execute_result"
    }
   ],
   "source": [
    "sorted(my_document['TF'].items(), reverse=True, key=lambda (term,freq):freq)[:10]"
   ]
  },
  {
   "cell_type": "markdown",
   "metadata": {},
   "source": [
    "## Calcular IDF"
   ]
  },
  {
   "cell_type": "code",
   "execution_count": 5,
   "metadata": {
    "collapsed": false
   },
   "outputs": [],
   "source": [
    "from collections import defaultdict\n",
    "from math import log\n",
    "\n",
    "term_docs = defaultdict(lambda :0)  # Number of documents a term appears in\n",
    "for d in documents:\n",
    "    for term in d['TF'].keys():\n",
    "        term_docs[term] += 1"
   ]
  },
  {
   "cell_type": "code",
   "execution_count": 6,
   "metadata": {
    "collapsed": false
   },
   "outputs": [],
   "source": [
    "n_docs_total = float(len(documents))\n",
    "idf_terms = {term: log(n_docs_total/n_docs) for term,n_docs in term_docs.iteritems()}"
   ]
  },
  {
   "cell_type": "code",
   "execution_count": 7,
   "metadata": {
    "collapsed": false
   },
   "outputs": [
    {
     "data": {
      "text/plain": [
       "[(u'hacerinfantiloid', 8.263074835802596),\n",
       " (u'magosl', 8.263074835802596),\n",
       " (u'warsl', 8.263074835802596),\n",
       " (u'estadopd2', 8.263074835802596),\n",
       " (u'bienbesitospd', 8.263074835802596),\n",
       " (u'canteresum', 8.263074835802596),\n",
       " (u'vej', 7.569927655242652),\n",
       " (u'hogarts', 7.164462547134487),\n",
       " (u'hagr', 6.653636923368497),\n",
       " (u'ale', 6.317164686747284)]"
      ]
     },
     "execution_count": 7,
     "metadata": {},
     "output_type": "execute_result"
    }
   ],
   "source": [
    "sorted(\n",
    "    [\n",
    "        (term, idf_terms[term])\n",
    "        for term in \n",
    "        list(set(my_document['TF'].keys()).intersection(set(idf_terms.keys())))\n",
    "    ],\n",
    "    reverse=True,\n",
    "    key=lambda (term,freq):freq\n",
    ")[:10]"
   ]
  },
  {
   "cell_type": "markdown",
   "metadata": {},
   "source": [
    "## Calcular [TF-IDF](https://es.wikipedia.org/wiki/Tf-idf)"
   ]
  },
  {
   "cell_type": "code",
   "execution_count": 8,
   "metadata": {
    "collapsed": false
   },
   "outputs": [],
   "source": [
    "for d in documents:\n",
    "    d['TFIDF'] = {t: f*idf_terms[t] for t,f in d['TF'].iteritems()}"
   ]
  },
  {
   "cell_type": "code",
   "execution_count": 9,
   "metadata": {
    "collapsed": false
   },
   "outputs": [],
   "source": [
    "def get_keywords(tfidf):\n",
    "    return [\n",
    "        term\n",
    "        for term, score in sorted(\n",
    "            tfidf.items(),\n",
    "            key=lambda (term,score): score,\n",
    "            reverse=True\n",
    "        )\n",
    "    ][:10]\n",
    "\n",
    "def explore(title):\n",
    "    print \"Título: {}\".format(title)\n",
    "    for kws in [get_keywords(d['TFIDF']) for d in documents if title==d['title']]:\n",
    "        print ' ->  {}'.format(', '.join(kws))"
   ]
  },
  {
   "cell_type": "code",
   "execution_count": 10,
   "metadata": {
    "collapsed": false
   },
   "outputs": [
    {
     "name": "stdout",
     "output_type": "stream",
     "text": [
      "Título: Harry Potter y la piedra filosofal\n",
      " ->  mag, inan, snap, voldemort, nios, reforz, fantasi, huerfan, cuaj, magi\n",
      " ->  hacerinfantiloid, warsl, magosl, estadopd2, bienbesitospd, canteresum, pott, fan, vej, hogarts\n"
     ]
    }
   ],
   "source": [
    "explore(u'Harry Potter y la piedra filosofal')"
   ]
  },
  {
   "cell_type": "code",
   "execution_count": 11,
   "metadata": {
    "collapsed": false
   },
   "outputs": [
    {
     "name": "stdout",
     "output_type": "stream",
     "text": [
      "Título: High School Musical\n",
      " ->  disc, gastronteritis, meditant, disney, herbi, duff, chavalit, ostra, revolc, ejem\n",
      " ->  channel, school, programacion, high, infantilciment, aptisim, unidosel, dinty, juvenil, coreografi\n"
     ]
    }
   ],
   "source": [
    "explore('High School Musical')"
   ]
  },
  {
   "cell_type": "code",
   "execution_count": 12,
   "metadata": {
    "collapsed": false
   },
   "outputs": [
    {
     "name": "stdout",
     "output_type": "stream",
     "text": [
      "Título: Los puentes de Madison\n",
      " ->  amor, espiritual, renuev, cruc, bla, desarraig, francesc, panfletari, conserv, famili\n"
     ]
    }
   ],
   "source": [
    "explore('Los puentes de Madison')"
   ]
  },
  {
   "cell_type": "code",
   "execution_count": 13,
   "metadata": {
    "collapsed": false
   },
   "outputs": [
    {
     "name": "stdout",
     "output_type": "stream",
     "text": [
      "Título: 2001, Odisea del espacio\n",
      " ->  2001, kubrick, strauss, moonwatch, monolit, bowm, astronaut, 1977, primit, inedit\n"
     ]
    }
   ],
   "source": [
    "explore('2001, Odisea del espacio')"
   ]
  },
  {
   "cell_type": "code",
   "execution_count": 14,
   "metadata": {
    "collapsed": false
   },
   "outputs": [
    {
     "name": "stdout",
     "output_type": "stream",
     "text": [
      "Título: Alien vs Predator 2\n",
      " ->  terrorcon, 300rod, pestiotod, streus, clipl, rescuem, aburrid, super, predators, doblet\n",
      " ->  predator, avp, xenoform, predali, ali, nav, straus, versus, aliens, extraterrestr\n",
      " ->  predator, cutr, vs, ali, evitentel, telivision, cumpliri, contien, patet, teen\n",
      " ->  predator, aliens, vs, ali, requiem, depred, ident, jeunet, straus, ripley\n",
      " ->  straus, depred, videojueg, ali, silvestri, predator, constantin, vs, pearl, aliens\n",
      " ->  straus, vs, depred, version, poseenali, avpla, 126, pasajerordqu, dolaresinevit, 171\n",
      " ->  depred, aliens, ud, nav, nom, ali, pueblit, convoc, parasit, hellip\n",
      " ->  aliens, depred, raz, anchas, exact, cazarlosel, comicbas, exprimamosl, peleal, peliculapart\n",
      " ->  cuartill, jej, aliens, tont, queresum, rubickel, superoriginal, pantallasin, fiessst, screeners\n",
      " ->  predator, ali, mentiri, mojon, hug, mach, sanchez, tierr, jugab, ciruel\n"
     ]
    }
   ],
   "source": [
    "explore('Alien vs Predator 2')"
   ]
  },
  {
   "cell_type": "code",
   "execution_count": 15,
   "metadata": {
    "collapsed": false
   },
   "outputs": [
    {
     "name": "stdout",
     "output_type": "stream",
     "text": [
      "Título: Apocalypto\n",
      " ->  may, nativ, provinci, geograf, apocalypt, crist, crei, aportari, autosacrifici, excasez\n",
      " ->  apocalypt, gibson, may, caz, civilizacion, guerrer, jagu, persecucion, cazador, capturaronreal\n",
      " ->  gibson, jagu, mel, may, apocalypt, moj, cultur, vais, sacrifici, crist\n",
      " ->  aborig, apocalypt, gibson, jabali, aborigen, may, aventur, variabl, espesur, colect\n",
      " ->  civilizacion, personajesaunqu, caractetiz, cintatampoc, extremezc, violent, histor, espereis, leg, decliv\n",
      " ->  espectaculom, subtituloshay, vezn, aztec, tub, son, entiend, aviv, brasile, bendit\n",
      " ->  gibson, jagu, max, apocalypt, mel, selv, salvaj, cazador, bosquey, seml\n",
      " ->  gibson, aztec, excedent, metrajeconoc, australianocu, sacrificiosl, inhabit, espectadorper, abc, pid\n",
      " ->  may, alde, libeeeertaa, rarosresum, pocol, familiahac, destru, grab, trepid, cautiveri\n",
      " ->  mel, indigen, musculatur, jagu, creenciasv, elementalesm, masal, facilel, seventh, cintascont\n",
      " ->  apocalypt, gibson, mel, temporal, fotogramal, mohican, teoricas, urbes, magnificamenteritm, mesesm\n",
      " ->  primit, apocalypt, rodandoel, sacrificion, dutch, descomposicionh, hierbaj, derrotadaser, gorehistoricocon, sofisdicadasy\n",
      " ->  apocalypt, gibson, crist, pasion, tortur, mel, mnight, autor, braveheart, riesg\n",
      " ->  exclam, jagu, alde, through, entreteniday, ronaldinh, supercin, maravillosoper, interf, melapocalypt\n",
      " ->  asombr, apocalypt, crist, civilizacion, gibson, may, epocapor, civilizacionrod, existenciatr, destriparapocalypt\n",
      " ->  paw, alde, may, civilizacion, durant, asistir, gibson, destruccion, jagu, esclav\n",
      " ->  gibson, may, astronom, jagu, consum, apocalypt, eclips, trop, jungl, fusteapocalypt\n",
      " ->  jagu, gibson, garr, apocalypt, violent, refier, may, tribu, cubiert, cabron\n",
      " ->  gibson, may, aventur, ideologi, mel, emocionahabr, morgenstern, apocalypton, amoralg, olvideis\n",
      " ->  may, aztec, peli, fais, eusker, sacrifici, mel, cazador, hues, usab\n",
      " ->  gibson, mismojueg, narracionvuelv, periciacom, pontosangr, ganadorcom, destru, bazal, temerari, fugac\n",
      " ->  gibson, selv, temor, may, antropolog, sociedad, civiliz, naturalez, pudor, indag\n",
      " ->  may, gibson, quich, evangeli, conquist, aztec, civilizacion, sigl, eclipsestampoc, wiinik\n",
      " ->  gibson, cultur, may, racist, apocalypt, mel, guatemal, ldquocivilizacionrdqu, ldquoantropolog, historiaest\n"
     ]
    }
   ],
   "source": [
    "explore('Apocalypto')"
   ]
  }
 ],
 "metadata": {
  "kernelspec": {
   "display_name": "Python 2",
   "language": "python",
   "name": "python2"
  },
  "language_info": {
   "codemirror_mode": {
    "name": "ipython",
    "version": 2
   },
   "file_extension": ".py",
   "mimetype": "text/x-python",
   "name": "python",
   "nbconvert_exporter": "python",
   "pygments_lexer": "ipython2",
   "version": "2.7.12"
  }
 },
 "nbformat": 4,
 "nbformat_minor": 2
}
